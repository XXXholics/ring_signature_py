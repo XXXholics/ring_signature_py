{
 "cells": [
  {
   "cell_type": "markdown",
   "metadata": {},
   "source": [
    "1. why p-1?\n",
    "2. 是否需要存储公钥私钥然后再进行环签名\n",
    "3. 改成DSA lib中的公私钥加密和随机数生成"
   ]
  },
  {
   "cell_type": "code",
   "execution_count": 154,
   "metadata": {},
   "outputs": [
    {
     "name": "stdout",
     "output_type": "stream",
     "text": [
      "Signature: (r=756185547, x=149736893)\n",
      "Signature valid: True\n"
     ]
    }
   ],
   "source": [
    "import random\n",
    "from hashlib import sha256\n",
    "\n",
    "def generate_keys(g, p):\n",
    "    # 生成私钥s\n",
    "    s = random.randint(1, p-2)\n",
    "    # 计算公钥v = g^s mod p\n",
    "    v = pow(g, s, p)\n",
    "    return s, v\n",
    "\n",
    "def schnorr_sign(message, g, p, s):\n",
    "    # 选择随机数k\n",
    "    k = random.randint(1, p-2)\n",
    "    # 计算r = g^k mod p\n",
    "    r = pow(g, k, p)\n",
    "    # 将消息和r的值哈希，然后与私钥s结合产生签名\n",
    "    hash_value = int(sha256((str(r) + message).encode()).hexdigest(), 16)\n",
    "    x = (k - s * hash_value) % (p-1)\n",
    "    return r, x\n",
    "\n",
    "def schnorr_verify(message, g, p, v, r, x):\n",
    "    # 重新计算r的哈希值\n",
    "    hash_value = int(sha256((str(r) + message).encode()).hexdigest(), 16)\n",
    "    # 使用公钥v和签名x、r计算验证值\n",
    "    rv = (pow(g, x, p) * pow(v, hash_value, p)) % p\n",
    "    return rv == r\n",
    "\n",
    "# 设置大素数p和其原根g\n",
    "p = 1000000007  # 一个大素数\n",
    "g = 5  # p的原根\n",
    "\n",
    "# 生成密钥\n",
    "s, v = generate_keys(g, p)\n",
    "\n",
    "# 签名消息\n",
    "message = \"Hello, Schnorr!\"\n",
    "r, x = schnorr_sign(message, g, p, s)\n",
    "print(f\"Signature: (r={r}, x={x})\")\n",
    "\n",
    "# 验证签名\n",
    "valid = schnorr_verify(message, g, p, v, r, x)\n",
    "print(f\"Signature valid: {valid}\")\n"
   ]
  },
  {
   "cell_type": "code",
   "execution_count": 155,
   "metadata": {},
   "outputs": [
    {
     "name": "stdout",
     "output_type": "stream",
     "text": [
      "msg: Hello, Ring Signature\n",
      "pubkeys: [417972493, 968634488, 805984085]\n",
      "Y: 417972493968634488805984085\n",
      "e3: 23299363187223293576147029669753009102510702700275497468033058576890608831573\n",
      "random_s3: 470576925\n",
      "e1: 60246566526499533121676458949285734704336613253755169601860474893228677194701\n",
      "random_s1: 175159952\n",
      "e2: 68270066951973315249926724473378211566265554608335630336960469803975069934735\n",
      "s2: 821950262\n",
      "signature process total result:\n"
     ]
    },
    {
     "data": {
      "text/plain": [
       "{'e1': 60246566526499533121676458949285734704336613253755169601860474893228677194701,\n",
       " 's1': 175159952,\n",
       " 's2': 821950262,\n",
       " 's3': 470576925}"
      ]
     },
     "metadata": {},
     "output_type": "display_data"
    }
   ],
   "source": [
    "import random \n",
    "from hashlib import sha256\n",
    "\n",
    "\n",
    "p = 1000000007  # prime\n",
    "g = 5  # primitive root of p\n",
    "\n",
    "def generate_keys(g, p):\n",
    "    # secret key s\n",
    "    s = random.randint(1, p-2)\n",
    "    # public key = g^s mod p\n",
    "    v = pow(g, s, p)\n",
    "    return s, v\n",
    "\n",
    "msg = 'Hello, Ring Signature'\n",
    "print('msg:', msg)\n",
    "\n",
    "x1, y1 = generate_keys(g, p)\n",
    "x2, y2 = generate_keys(g, p)\n",
    "x3, y3 = generate_keys(g, p)\n",
    "public_key_list = [y1, y2, y3]\n",
    "print('pubkeys:', public_key_list)\n",
    "Y = ''.join([str(i) for i in public_key_list])\n",
    "print('Y:', Y)\n",
    "\n",
    "r, R = generate_keys(g, p)\n",
    "e3 = int(sha256((str(msg) + str(Y) + str(pow(g, r, p))).encode()).hexdigest(), 16)\n",
    "print('e3:', e3)\n",
    "\n",
    "_, random_s3 = generate_keys(g, p)\n",
    "print('random_s3:', random_s3)\n",
    "\n",
    "calculation = (pow(g, random_s3, p)*pow(y3, e3, p)) % p\n",
    "e1 = int(sha256((str(msg) + str(Y) + str(calculation)).encode()).hexdigest(), 16)\n",
    "print('e1:', e1)\n",
    "\n",
    "_, random_s1 = generate_keys(g, p)\n",
    "print('random_s1:', random_s1)\n",
    "\n",
    "calculation = (pow(g, random_s1, p)*pow(y1, e1, p)) % p\n",
    "e2 = int(sha256((str(msg) + str(Y) + str(calculation)).encode()).hexdigest(), 16)\n",
    "print('e2:', e2)\n",
    "\n",
    "# why p-1?\n",
    "s2 = (r - x2 * e2) % (p-1)\n",
    "print('s2:', s2)\n",
    "\n",
    "total_res = {\n",
    "    'e1': e1,\n",
    "    's1': random_s1,\n",
    "    's2': s2,\n",
    "    's3': random_s3\n",
    "}\n",
    "\n",
    "print('signature process total result:')\n",
    "display(total_res)"
   ]
  },
  {
   "cell_type": "code",
   "execution_count": 156,
   "metadata": {},
   "outputs": [
    {
     "name": "stdout",
     "output_type": "stream",
     "text": [
      "60246566526499533121676458949285734704336613253755169601860474893228677194701\n",
      "68270066951973315249926724473378211566265554608335630336960469803975069934735\n",
      "23299363187223293576147029669753009102510702700275497468033058576890608831573\n",
      "True\n",
      "True\n",
      "True\n"
     ]
    }
   ],
   "source": [
    "calculation = (pow(g, total_res['s1'], p)*pow(y1, total_res['e1'], p)) % p\n",
    "e2_V = int(sha256((str(msg) + str(Y) + str(calculation)).encode()).hexdigest(), 16)\n",
    "calculation = (pow(g, total_res['s2'], p) * pow(y2, e2_V, p)) % p\n",
    "e3_V = int(sha256((str(msg) + str(Y) + str(calculation)).encode()).hexdigest(), 16)\n",
    "calculation = (pow(g, total_res['s3'], p)*pow(y3, e3_V, p)) % p\n",
    "e1_V = int(sha256((str(msg) + str(Y) + str(calculation)).encode()).hexdigest(), 16)\n",
    "\n",
    "print(e1_V)\n",
    "print(e2_V)\n",
    "print(e3_V)\n",
    "print(e1_V==e1)\n",
    "print(e2_V==e2)\n",
    "print(e3_V==e3)"
   ]
  },
  {
   "cell_type": "code",
   "execution_count": 157,
   "metadata": {},
   "outputs": [
    {
     "data": {
      "text/plain": [
       "494496705"
      ]
     },
     "execution_count": 157,
     "metadata": {},
     "output_type": "execute_result"
    }
   ],
   "source": [
    "e3_calculation = (pow(g, total_res['s2'], p) * pow(y2, e2_V, p)) % p\n",
    "e3_calculation"
   ]
  },
  {
   "cell_type": "code",
   "execution_count": 158,
   "metadata": {},
   "outputs": [
    {
     "data": {
      "text/plain": [
       "494496705"
      ]
     },
     "execution_count": 158,
     "metadata": {},
     "output_type": "execute_result"
    }
   ],
   "source": [
    "e3_original_calculation = pow(g, r, p) % p\n",
    "e3_original_calculation"
   ]
  },
  {
   "cell_type": "code",
   "execution_count": 159,
   "metadata": {},
   "outputs": [
    {
     "data": {
      "text/plain": [
       "494496705"
      ]
     },
     "execution_count": 159,
     "metadata": {},
     "output_type": "execute_result"
    }
   ],
   "source": [
    "(pow(g, total_res['s2'], p) * pow(y2, e2_V, p)) % p"
   ]
  },
  {
   "cell_type": "code",
   "execution_count": 160,
   "metadata": {},
   "outputs": [
    {
     "data": {
      "text/plain": [
       "494496705"
      ]
     },
     "execution_count": 160,
     "metadata": {},
     "output_type": "execute_result"
    }
   ],
   "source": [
    "pow(g, r, p)"
   ]
  },
  {
   "cell_type": "code",
   "execution_count": 161,
   "metadata": {},
   "outputs": [
    {
     "name": "stdout",
     "output_type": "stream",
     "text": [
      "msg: Hello, Ring Signature\n",
      "pubkeys: [375738166, 448155835, 597705860]\n",
      "Y: 375738166448155835597705860\n",
      "tag: 375738166\n",
      "e3: 814834924727847369884819828522728757321599742227078323596485851524865993759\n",
      "random_s3: 287892895\n",
      "e1: 14504380731847738628765761827553660089486291504760028699187853653962702233568\n",
      "random_s1: 613868940\n",
      "e2: 50964452774902056429131073473492124925558970319187421142422880537378964686574\n",
      "s2: 555720001\n",
      "signature process total result:\n"
     ]
    },
    {
     "data": {
      "text/plain": [
       "{'e1': 14504380731847738628765761827553660089486291504760028699187853653962702233568,\n",
       " 's1': 613868940,\n",
       " 's2': 555720001,\n",
       " 's3': 287892895,\n",
       " 'tag': 375738166}"
      ]
     },
     "metadata": {},
     "output_type": "display_data"
    }
   ],
   "source": [
    "import random\n",
    "from hashlib import sha256\n",
    "\n",
    "p = 1000000007  # prime\n",
    "g = 5  # primitive root of p\n",
    "\n",
    "def generate_keys(g, p):\n",
    "    # secret key s\n",
    "    s = random.randint(1, p-2)\n",
    "    # public key = g^s mod p\n",
    "    v = pow(g, s, p)\n",
    "    return s, v\n",
    "\n",
    "def generate_tag(x, g, p):\n",
    "    # Generate tag using private key x and generator g\n",
    "    tag = pow(g, x, p)\n",
    "    return tag\n",
    "\n",
    "msg = 'Hello, Ring Signature'\n",
    "print('msg:', msg)\n",
    "\n",
    "x1, y1 = generate_keys(g, p)\n",
    "x2, y2 = generate_keys(g, p)\n",
    "x3, y3 = generate_keys(g, p)\n",
    "public_key_list = [y1, y2, y3]\n",
    "print('pubkeys:', public_key_list)\n",
    "Y = ''.join([str(i) for i in public_key_list])\n",
    "print('Y:', Y)\n",
    "\n",
    "tag = generate_tag(x1, g, p)  # Use x1 for the tag, can be any x\n",
    "print('tag:', tag)\n",
    "\n",
    "r, R = generate_keys(g, p)\n",
    "e3 = int(sha256((str(msg) + str(Y) + str(tag) + str(pow(g, r, p))).encode()).hexdigest(), 16)\n",
    "print('e3:', e3)\n",
    "\n",
    "_, random_s3 = generate_keys(g, p)\n",
    "print('random_s3:', random_s3)\n",
    "\n",
    "calculation = (pow(g, random_s3, p)*pow(y3, e3, p)) % p\n",
    "e1 = int(sha256((str(msg) + str(Y) + str(tag) + str(calculation)).encode()).hexdigest(), 16)\n",
    "print('e1:', e1)\n",
    "\n",
    "_, random_s1 = generate_keys(g, p)\n",
    "print('random_s1:', random_s1)\n",
    "\n",
    "calculation = (pow(g, random_s1, p)*pow(y1, e1, p)) % p\n",
    "e2 = int(sha256((str(msg) + str(Y) + str(tag) + str(calculation)).encode()).hexdigest(), 16)\n",
    "print('e2:', e2)\n",
    "\n",
    "# why p-1?\n",
    "s2 = (r - x2 * e2) % (p-1)\n",
    "print('s2:', s2)\n",
    "\n",
    "total_res = {\n",
    "    'e1': e1,\n",
    "    's1': random_s1,\n",
    "    's2': s2,\n",
    "    's3': random_s3,\n",
    "    'tag': tag\n",
    "}\n",
    "\n",
    "print('signature process total result:')\n",
    "display(total_res)\n"
   ]
  },
  {
   "cell_type": "code",
   "execution_count": 162,
   "metadata": {},
   "outputs": [
    {
     "name": "stdout",
     "output_type": "stream",
     "text": [
      "14504380731847738628765761827553660089486291504760028699187853653962702233568\n",
      "50964452774902056429131073473492124925558970319187421142422880537378964686574\n",
      "814834924727847369884819828522728757321599742227078323596485851524865993759\n",
      "True\n",
      "True\n",
      "True\n"
     ]
    }
   ],
   "source": [
    "calculation = (pow(g, total_res['s1'], p)*pow(y1, total_res['e1'], p)) % p\n",
    "e2_V = int(sha256((str(msg) + str(Y) + str(tag) + str(calculation)).encode()).hexdigest(), 16)\n",
    "calculation = (pow(g, total_res['s2'], p) * pow(y2, e2_V, p)) % p\n",
    "e3_V = int(sha256((str(msg) + str(Y) + str(tag) + str(calculation)).encode()).hexdigest(), 16)\n",
    "calculation = (pow(g, total_res['s3'], p)*pow(y3, e3_V, p)) % p\n",
    "e1_V = int(sha256((str(msg) + str(Y) + str(tag) + str(calculation)).encode()).hexdigest(), 16)\n",
    "\n",
    "print(e1_V)\n",
    "print(e2_V)\n",
    "print(e3_V)\n",
    "print(e1_V==e1)\n",
    "print(e2_V==e2)\n",
    "print(e3_V==e3)"
   ]
  }
 ],
 "metadata": {
  "kernelspec": {
   "display_name": "Python 3",
   "language": "python",
   "name": "python3"
  },
  "language_info": {
   "codemirror_mode": {
    "name": "ipython",
    "version": 3
   },
   "file_extension": ".py",
   "mimetype": "text/x-python",
   "name": "python",
   "nbconvert_exporter": "python",
   "pygments_lexer": "ipython3",
   "version": "3.12.1"
  }
 },
 "nbformat": 4,
 "nbformat_minor": 2
}
