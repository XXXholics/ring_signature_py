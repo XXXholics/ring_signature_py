{
 "cells": [
  {
   "cell_type": "code",
   "execution_count": 398,
   "metadata": {},
   "outputs": [
    {
     "data": {
      "text/plain": [
       "99524571567389865764528099515781141894963043343204968711202652520115748140992492450738364758361395345408976732416572028187157981105564799136557094376569103818735421899422547291243296376836355178733023813258919739668602683407740608851146552396298993783579490229819823473668450018454515256603737074398733001609"
      ]
     },
     "execution_count": 398,
     "metadata": {},
     "output_type": "execute_result"
    }
   ],
   "source": [
    "y_wave = pow(h, x2, p)\n",
    "y_wave"
   ]
  },
  {
   "cell_type": "code",
   "execution_count": 399,
   "metadata": {},
   "outputs": [
    {
     "name": "stdout",
     "output_type": "stream",
     "text": [
      "Generated DSA Parameters:\n",
      "p: 130046647850388264320143775188060697096610325119132783454283941651796270228178494460573865919971478739543325143613180783495007439135955899680624535978966946245668959414504184249488219631777404897569869807067600501622037064344343657872849212088587728699871494283912782073776881875755553005562891650138478842293\n",
      "q: 1300980027076646086143239961901213243924483914227\n",
      "g: 103243008824125050700390254697040674192013424299948706857347960309690276676655948201384822575488133788872939315996667501097433520245010830741490836009678707893339515839381849874568711953528393298586215139039097923765732154634836079545480503371127419734639134273360522244190886483967403936001189639977730354312\n",
      "\n",
      "Private Key: <cryptography.hazmat.bindings._rust.openssl.dsa.DSAPrivateKey object at 0x00000276C540B750>\n",
      "Public Key: <cryptography.hazmat.bindings._rust.openssl.dsa.DSAPublicKey object at 0x00000276C54090D0>\n",
      "msg: Hello, Ring Signature\n",
      "pubkeys: [49409362983676093397628389469176568982761871349970308062620437394470377103531411955947949046710940107288401092261482132041449621439980909427678760714192364927122802877323340465688895897904974781136285825165298170431255099609821805273770390519022692517847030368045337970870176542513182826463896517915266157875, 125169805177299395687706419851319114150982102938564937410410273517092727522205256474456137786001856621271365654899162465096602379480270259338093315227265124365097590387093812705519047504091400672224494983410497611148113923742816732858568275665447093481728824080575110842843009674062369531212098790424981787717, 128750863089146507273855898125153311340604306560679536361019595675672891761045433903417216429691678738290763111647839610896818498443873473017117014669762742237083388755377608178359259206427832560558092859100837478358682600565993057235028169227559666356797985648736448404192438782644590857590729031107224653015]\n",
      "Y: 49409362983676093397628389469176568982761871349970308062620437394470377103531411955947949046710940107288401092261482132041449621439980909427678760714192364927122802877323340465688895897904974781136285825165298170431255099609821805273770390519022692517847030368045337970870176542513182826463896517915266157875125169805177299395687706419851319114150982102938564937410410273517092727522205256474456137786001856621271365654899162465096602379480270259338093315227265124365097590387093812705519047504091400672224494983410497611148113923742816732858568275665447093481728824080575110842843009674062369531212098790424981787717128750863089146507273855898125153311340604306560679536361019595675672891761045433903417216429691678738290763111647839610896818498443873473017117014669762742237083388755377608178359259206427832560558092859100837478358682600565993057235028169227559666356797985648736448404192438782644590857590729031107224653015\n",
      "e3: 61337237892963278602028347173905347343219196676\n",
      "random_s3: 192837513579391262307705832911433945825445633940\n",
      "e1: 210378308148480253079172626400845198477300885491\n",
      "random_s1: 52963575060521116058391439155557554803446486396\n",
      "e2: 774001091531025821808832396543798643506898872622\n",
      "s2: 26773897151534343152375885153782982730703475260112096466135125796185744047040912611067272614003814324986209326032667375603905503971696227429752888489522216738481583660167002649640650081227240915131095782371730363067838038757197135886096141358374832213702128922311181185078577453988985972391280963212972765474\n",
      "signature process total result:\n"
     ]
    },
    {
     "data": {
      "text/plain": [
       "{'e1': 210378308148480253079172626400845198477300885491,\n",
       " 's1': 52963575060521116058391439155557554803446486396,\n",
       " 's2': 26773897151534343152375885153782982730703475260112096466135125796185744047040912611067272614003814324986209326032667375603905503971696227429752888489522216738481583660167002649640650081227240915131095782371730363067838038757197135886096141358374832213702128922311181185078577453988985972391280963212972765474,\n",
       " 's3': 192837513579391262307705832911433945825445633940}"
      ]
     },
     "metadata": {},
     "output_type": "display_data"
    }
   ],
   "source": [
    "from cryptography.hazmat.primitives.asymmetric import dsa\n",
    "from cryptography.hazmat.backends import default_backend\n",
    "import random\n",
    "from hashlib import sha256, sha3_256\n",
    "\n",
    "\n",
    "def generate_dsa_parameters():\n",
    "    # Generate DSA parameters with 1024-bit p and 160-bit q\n",
    "    parameters = dsa.generate_parameters(key_size=1024, backend=default_backend())\n",
    "    \n",
    "    # Generate private and public keys based on the generated parameters\n",
    "    private_key = parameters.generate_private_key()\n",
    "    public_key = private_key.public_key()\n",
    "\n",
    "    # Access the DSA parameters\n",
    "    p = parameters.parameter_numbers().p\n",
    "    q = parameters.parameter_numbers().q\n",
    "    g = parameters.parameter_numbers().g\n",
    "\n",
    "    print(\"Generated DSA Parameters:\")\n",
    "    print(\"p:\", p)\n",
    "    print(\"q:\", q)\n",
    "    print(\"g:\", g)\n",
    "    print(\"\\nPrivate Key:\", private_key)\n",
    "    print(\"Public Key:\", public_key)\n",
    "    return p,q,g\n",
    "\n",
    "p,q,g = generate_dsa_parameters()\n",
    "\n",
    "def generate_keys(g, p):\n",
    "    # 生成私钥s\n",
    "    s = random.randint(1, p-2)\n",
    "    # 计算公钥v = g^s mod p\n",
    "    v = pow(g, s, p)\n",
    "    return s, v\n",
    "\n",
    "msg = 'Hello, Ring Signature'\n",
    "print('msg:', msg)\n",
    "\n",
    "x1, y1 = generate_keys(g, p)\n",
    "x2, y2 = generate_keys(g, p)\n",
    "x3, y3 = generate_keys(g, p)\n",
    "public_key_list = [y1, y2, y3]\n",
    "print('pubkeys:', public_key_list)\n",
    "Y = ''.join([str(i) for i in public_key_list])\n",
    "print('Y:', Y)\n",
    "\n",
    "h = int(sha3_256(str(Y).encode()).hexdigest(), 16) % p\n",
    "h = pow(g, h, p)\n",
    "y_wave = pow(h, x2, p)\n",
    "\n",
    "r, R = generate_keys(g, q)\n",
    "e3 = int(sha256(str(str(msg) + str(Y) + str(pow(g, r, p)) + str(y_wave) + str(pow(h, r, p))).encode()).hexdigest(), 16) % q\n",
    "print('e3:', e3)\n",
    "\n",
    "_, random_s3 = generate_keys(g, q)\n",
    "print('random_s3:', random_s3)\n",
    "\n",
    "calculation = (pow(g, random_s3, p)*pow(y3, e3, p)) % p\n",
    "calculation_1 = (pow(h, random_s3, p)*pow(y_wave, e3, p)) % p\n",
    "e1 = int(sha256(str(str(msg) + str(Y) + str(calculation) + str(y_wave) + str(calculation_1)).encode()).hexdigest(), 16) % q\n",
    "print('e1:', e1)\n",
    "\n",
    "_, random_s1 = generate_keys(g, q)\n",
    "print('random_s1:', random_s1)\n",
    "\n",
    "calculation = (pow(g, random_s1, p)*pow(y1, e1, p)) % p\n",
    "calculation_1 = (pow(h, random_s1, p)*pow(y_wave, e1, p)) % p\n",
    "e2 = int(sha256((str(msg) + str(Y) + str(calculation) + str(y_wave) + str(calculation_1)).encode()).hexdigest(), 16) % q\n",
    "print('e2:', e2)\n",
    "\n",
    "s2 = (r - x2 * e2) % ((p-1)//2)\n",
    "print('s2:', s2)\n",
    "\n",
    "total_res = {\n",
    "    'e1': e1,\n",
    "    's1': random_s1,\n",
    "    's2': s2,\n",
    "    's3': random_s3\n",
    "}\n",
    "\n",
    "print('signature process total result:')\n",
    "display(total_res)"
   ]
  },
  {
   "cell_type": "code",
   "execution_count": 400,
   "metadata": {},
   "outputs": [
    {
     "name": "stdout",
     "output_type": "stream",
     "text": [
      "210378308148480253079172626400845198477300885491\n",
      "774001091531025821808832396543798643506898872622\n",
      "61337237892963278602028347173905347343219196676\n",
      "True\n"
     ]
    }
   ],
   "source": [
    "calculation = (pow(g, total_res['s1'], p)*pow(y1, total_res['e1'], p)) % p\n",
    "calculation_1 = (pow(h, total_res['s1'], p)*pow(y_wave, total_res['e1'], p)) % p\n",
    "e2_V = int(sha256((str(msg) + str(Y) + str(calculation) + str(y_wave) + str(calculation_1)).encode()).hexdigest(), 16) % q\n",
    "calculation = (pow(g, total_res['s2'], p) * pow(y2, e2_V, p)) % p\n",
    "calculation_1 = (pow(h, total_res['s2'], p)*pow(y_wave, e2_V, p)) % p\n",
    "e3_V = int(sha256((str(msg) + str(Y) + str(calculation) + str(y_wave) + str(calculation_1)).encode()).hexdigest(), 16) % q\n",
    "calculation = (pow(g, total_res['s3'], p)*pow(y3, e3_V, p)) % p\n",
    "calculation_1 = (pow(h, total_res['s3'], p)*pow(y_wave, e3_V, p)) % p\n",
    "e1_V = int(sha256((str(msg) + str(Y) + str(calculation) + str(y_wave) + str(calculation_1)).encode()).hexdigest(), 16) % q\n",
    "\n",
    "print(e1_V)\n",
    "print(e2_V)\n",
    "print(e3_V)\n",
    "print(e1_V==e1)"
   ]
  }
 ],
 "metadata": {
  "kernelspec": {
   "display_name": "Python 3",
   "language": "python",
   "name": "python3"
  },
  "language_info": {
   "codemirror_mode": {
    "name": "ipython",
    "version": 3
   },
   "file_extension": ".py",
   "mimetype": "text/x-python",
   "name": "python",
   "nbconvert_exporter": "python",
   "pygments_lexer": "ipython3",
   "version": "3.12.1"
  }
 },
 "nbformat": 4,
 "nbformat_minor": 2
}
