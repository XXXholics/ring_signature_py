{
 "cells": [
  {
   "cell_type": "code",
   "execution_count": 2,
   "metadata": {},
   "outputs": [
    {
     "name": "stdout",
     "output_type": "stream",
     "text": [
      "Signature: (r=216489087, x=252977741)\n",
      "Signature valid: True\n"
     ]
    }
   ],
   "source": [
    "import random\n",
    "from hashlib import sha256\n",
    "\n",
    "def generate_keys(g, p):\n",
    "    # 生成私钥s\n",
    "    s = random.randint(1, p-2)\n",
    "    # 计算公钥v = g^s mod p\n",
    "    v = pow(g, s, p)\n",
    "    return s, v\n",
    "\n",
    "def schnorr_sign(message, g, p, s):\n",
    "    # 选择随机数k\n",
    "    k = random.randint(1, p-2)\n",
    "    # 计算r = g^k mod p\n",
    "    r = pow(g, k, p)\n",
    "    # 将消息和r的值哈希，然后与私钥s结合产生签名\n",
    "    hash_value = int(sha256((str(r) + message).encode()).hexdigest(), 16)\n",
    "    x = (k - s * hash_value) % (p-1)\n",
    "    return r, x\n",
    "\n",
    "def schnorr_verify(message, g, p, v, r, x):\n",
    "    # 重新计算r的哈希值\n",
    "    hash_value = int(sha256((str(r) + message).encode()).hexdigest(), 16)\n",
    "    # 使用公钥v和签名x、r计算验证值\n",
    "    rv = (pow(g, x, p) * pow(v, hash_value, p)) % p\n",
    "    return rv == r\n",
    "\n",
    "# 设置大素数p和其原根g\n",
    "p = 1000000007  # 一个大素数\n",
    "g = 5  # p的原根\n",
    "\n",
    "# 生成密钥\n",
    "s, v = generate_keys(g, p)\n",
    "\n",
    "# 签名消息\n",
    "message = \"Hello, Schnorr!\"\n",
    "r, x = schnorr_sign(message, g, p, s)\n",
    "print(f\"Signature: (r={r}, x={x})\")\n",
    "\n",
    "# 验证签名\n",
    "valid = schnorr_verify(message, g, p, v, r, x)\n",
    "print(f\"Signature valid: {valid}\")\n"
   ]
  },
  {
   "cell_type": "code",
   "execution_count": 93,
   "metadata": {},
   "outputs": [
    {
     "name": "stdout",
     "output_type": "stream",
     "text": [
      "msg: Hello, Ring Signature\n",
      "pubkeys: [841255009, 649069732, 23212975]\n",
      "Y: 84125500964906973223212975\n",
      "e3: 88649382698444855426563625103162528956486330126166402314463816367987290940481\n",
      "random_s3: 604894976\n",
      "e1: 34794226520967787024232960355194709198779969750736876072503207928827879411708\n",
      "random_s1: 515058661\n",
      "e2: 93213463199084036771028118201965710417601356352333856440920382676283643110020\n",
      "s2: -34414567584573853633381503651516792396434764005965757128202051794008347897873899538891\n",
      "signature process total result:\n"
     ]
    },
    {
     "data": {
      "text/plain": [
       "{'e1': 34794226520967787024232960355194709198779969750736876072503207928827879411708,\n",
       " 's1': 515058661,\n",
       " 's2': -34414567584573853633381503651516792396434764005965757128202051794008347897873899538891,\n",
       " 's3': 604894976}"
      ]
     },
     "metadata": {},
     "output_type": "display_data"
    }
   ],
   "source": [
    "# 设置大素数p和其原根g\n",
    "p = 1000000007  # 一个大素数\n",
    "g = 5  # p的原根\n",
    "\n",
    "def generate_keys(g, p):\n",
    "    # 生成私钥s\n",
    "    s = random.randint(1, p-2)\n",
    "    # 计算公钥v = g^s mod p\n",
    "    v = pow(g, s, p)\n",
    "    return s, v\n",
    "\n",
    "msg = 'Hello, Ring Signature'\n",
    "print('msg:', msg)\n",
    "\n",
    "x1, y1 = generate_keys(g, p)\n",
    "x2, y2 = generate_keys(g, p)\n",
    "x3, y3 = generate_keys(g, p)\n",
    "public_key_list = [y1, y2, y3]\n",
    "print('pubkeys:', public_key_list)\n",
    "Y = ''.join([str(i) for i in public_key_list])\n",
    "print('Y:', Y)\n",
    "\n",
    "r, R = generate_keys(g, p)\n",
    "e3 = int(sha256((str(msg) + str(Y) + str(pow(g, r, p))).encode()).hexdigest(), 16)\n",
    "print('e3:', e3)\n",
    "\n",
    "_, random_s3 = generate_keys(g, p)\n",
    "print('random_s3:', random_s3)\n",
    "\n",
    "calculation = (pow(g, random_s3, p)*pow(y3, e3, p)) % p\n",
    "e1 = int(sha256((str(msg) + str(Y) + str(calculation)).encode()).hexdigest(), 16)\n",
    "print('e1:', e1)\n",
    "\n",
    "_, random_s1 = generate_keys(g, p)\n",
    "print('random_s1:', random_s1)\n",
    "\n",
    "calculation = (pow(g, random_s1, p)*pow(y1, e1, p)) % p\n",
    "e2 = int(sha256((str(msg) + str(Y) + str(calculation)).encode()).hexdigest(), 16)\n",
    "print('e2:', e2)\n",
    "\n",
    "s2 = (r - x2 * e2)\n",
    "print('s2:', s2)\n",
    "\n",
    "total_res = {\n",
    "    'e1': e1,\n",
    "    's1': random_s1,\n",
    "    's2': s2,\n",
    "    's3': random_s3\n",
    "}\n",
    "\n",
    "print('signature process total result:')\n",
    "display(total_res)"
   ]
  },
  {
   "cell_type": "code",
   "execution_count": 94,
   "metadata": {},
   "outputs": [
    {
     "name": "stdout",
     "output_type": "stream",
     "text": [
      "34794226520967787024232960355194709198779969750736876072503207928827879411708\n",
      "93213463199084036771028118201965710417601356352333856440920382676283643110020\n",
      "88649382698444855426563625103162528956486330126166402314463816367987290940481\n",
      "True\n"
     ]
    }
   ],
   "source": [
    "calculation = (pow(g, total_res['s1'], p)*pow(y1, total_res['e1'], p)) % p\n",
    "e2_V = int(sha256((str(msg) + str(Y) + str(calculation)).encode()).hexdigest(), 16)\n",
    "calculation = (pow(g, total_res['s2'], p) * pow(y2, e2_V, p)) % p\n",
    "e3_V = int(sha256((str(msg) + str(Y) + str(calculation)).encode()).hexdigest(), 16)\n",
    "calculation = (pow(g, total_res['s3'], p)*pow(y3, e3_V, p)) % p\n",
    "e1_V = int(sha256((str(msg) + str(Y) + str(calculation)).encode()).hexdigest(), 16)\n",
    "\n",
    "print(e1_V)\n",
    "print(e2_V)\n",
    "print(e3_V)\n",
    "print(e1_V==e1)"
   ]
  },
  {
   "cell_type": "code",
   "execution_count": 79,
   "metadata": {},
   "outputs": [
    {
     "data": {
      "text/plain": [
       "135642210"
      ]
     },
     "execution_count": 79,
     "metadata": {},
     "output_type": "execute_result"
    }
   ],
   "source": [
    "(pow(g, total_res['s2'], p) * pow(y2, e2_V, p)) % p"
   ]
  },
  {
   "cell_type": "code",
   "execution_count": 80,
   "metadata": {},
   "outputs": [
    {
     "data": {
      "text/plain": [
       "135642210"
      ]
     },
     "execution_count": 80,
     "metadata": {},
     "output_type": "execute_result"
    }
   ],
   "source": [
    "pow(g, r, p)"
   ]
  }
 ],
 "metadata": {
  "kernelspec": {
   "display_name": "Python 3",
   "language": "python",
   "name": "python3"
  },
  "language_info": {
   "codemirror_mode": {
    "name": "ipython",
    "version": 3
   },
   "file_extension": ".py",
   "mimetype": "text/x-python",
   "name": "python",
   "nbconvert_exporter": "python",
   "pygments_lexer": "ipython3",
   "version": "3.12.1"
  }
 },
 "nbformat": 4,
 "nbformat_minor": 2
}
