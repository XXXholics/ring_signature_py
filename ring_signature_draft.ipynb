{
 "cells": [
  {
   "cell_type": "code",
   "execution_count": 439,
   "metadata": {},
   "outputs": [
    {
     "name": "stdout",
     "output_type": "stream",
     "text": [
      "Signature: (r=674137276, x=204078983)\n",
      "Signature valid: True\n"
     ]
    }
   ],
   "source": [
    "import random\n",
    "from hashlib import sha256\n",
    "\n",
    "def generate_keys(g, p):\n",
    "    # 生成私钥s\n",
    "    s = random.randint(1, p-2)\n",
    "    # 计算公钥v = g^s mod p\n",
    "    v = pow(g, s, p)\n",
    "    return s, v\n",
    "\n",
    "def schnorr_sign(message, g, p, s):\n",
    "    # 选择随机数k\n",
    "    k = random.randint(1, p-2)\n",
    "    # 计算r = g^k mod p\n",
    "    r = pow(g, k, p)\n",
    "    # 将消息和r的值哈希，然后与私钥s结合产生签名\n",
    "    hash_value = int(sha256((str(r) + message).encode()).hexdigest(), 16)\n",
    "    x = (k - s * hash_value) % (p-1)\n",
    "    return r, x\n",
    "\n",
    "def schnorr_verify(message, g, p, v, r, x):\n",
    "    # 重新计算r的哈希值\n",
    "    hash_value = int(sha256((str(r) + message).encode()).hexdigest(), 16)\n",
    "    # 使用公钥v和签名x、r计算验证值\n",
    "    rv = (pow(g, x, p) * pow(v, hash_value, p)) % p\n",
    "    return rv == r\n",
    "\n",
    "# 设置大素数p和其原根g\n",
    "p = 1000000007  # 一个大素数\n",
    "g = 5  # p的原根\n",
    "\n",
    "# 生成密钥\n",
    "s, v = generate_keys(g, p)\n",
    "\n",
    "# 签名消息\n",
    "message = \"Hello, Schnorr!\"\n",
    "r, x = schnorr_sign(message, g, p, s)\n",
    "print(f\"Signature: (r={r}, x={x})\")\n",
    "\n",
    "# 验证签名\n",
    "valid = schnorr_verify(message, g, p, v, r, x)\n",
    "print(f\"Signature valid: {valid}\")\n"
   ]
  },
  {
   "cell_type": "code",
   "execution_count": 440,
   "metadata": {},
   "outputs": [
    {
     "name": "stdout",
     "output_type": "stream",
     "text": [
      "msg: Hello, Ring Signature\n",
      "pubkeys: [12342984613107202293339795186719190137, 152665891358578884806463863320084678415, 292773863476606314921771127011238797598]\n",
      "Y: 12342984613107202293339795186719190137152665891358578884806463863320084678415292773863476606314921771127011238797598\n",
      "e3: 164687035535111599570009344558848081419\n",
      "random_s3: 257541936627009438398173417538821003870\n",
      "e1: 145813987555041560589600840265792936193\n",
      "random_s1: 260171641548194598121706445766479277457\n",
      "e2: 4755353380164072547438211327749506304\n",
      "s2: 41908460187659479722945237397485304046\n",
      "signature process total result:\n"
     ]
    },
    {
     "data": {
      "text/plain": [
       "{'e1': 145813987555041560589600840265792936193,\n",
       " 's1': 260171641548194598121706445766479277457,\n",
       " 's2': 41908460187659479722945237397485304046,\n",
       " 's3': 257541936627009438398173417538821003870}"
      ]
     },
     "metadata": {},
     "output_type": "display_data"
    }
   ],
   "source": [
    "# 设置大素数p和其原根g\n",
    "p = 303864909163381275106113451286931993707  # 一个大素数\n",
    "q = (p-1)//2\n",
    "g = 5  # p的原根\n",
    "\n",
    "def generate_keys(g, p):\n",
    "    # 生成私钥s\n",
    "    s = random.randint(1, p-2)\n",
    "    # 计算公钥v = g^s mod p\n",
    "    v = pow(g, s, p)\n",
    "    return s, v\n",
    "\n",
    "msg = 'Hello, Ring Signature'\n",
    "print('msg:', msg)\n",
    "\n",
    "x1, y1 = generate_keys(g, p)\n",
    "x2, y2 = generate_keys(g, p)\n",
    "x3, y3 = generate_keys(g, p)\n",
    "public_key_list = [y1, y2, y3]\n",
    "print('pubkeys:', public_key_list)\n",
    "Y = ''.join([str(i) for i in public_key_list])\n",
    "print('Y:', Y)\n",
    "\n",
    "r, R = generate_keys(g, p)\n",
    "e3 = int(sha256((str(msg) + str(Y) + str(pow(g, r, p))).encode()).hexdigest(), 16) % p\n",
    "print('e3:', e3)\n",
    "\n",
    "_, random_s3 = generate_keys(g, p)\n",
    "print('random_s3:', random_s3)\n",
    "\n",
    "calculation = (pow(g, random_s3, p)*pow(y3, e3, p)) % p\n",
    "e1 = int(sha256((str(msg) + str(Y) + str(calculation)).encode()).hexdigest(), 16) % p\n",
    "print('e1:', e1)\n",
    "\n",
    "_, random_s1 = generate_keys(g, p)\n",
    "print('random_s1:', random_s1)\n",
    "\n",
    "calculation = (pow(g, random_s1, p)*pow(y1, e1, p)) % p\n",
    "e2 = int(sha256((str(msg) + str(Y) + str(calculation)).encode()).hexdigest(), 16) % q\n",
    "print('e2:', e2)\n",
    "\n",
    "s2 = (r - x2 * e2) % q\n",
    "print('s2:', s2)\n",
    "\n",
    "total_res = {\n",
    "    'e1': e1,\n",
    "    's1': random_s1,\n",
    "    's2': s2,\n",
    "    's3': random_s3\n",
    "}\n",
    "\n",
    "print('signature process total result:')\n",
    "display(total_res)"
   ]
  },
  {
   "cell_type": "code",
   "execution_count": 441,
   "metadata": {},
   "outputs": [
    {
     "name": "stdout",
     "output_type": "stream",
     "text": [
      "79782620466521882912273873893911956468289586534620962686075201655941063208351\n",
      "92167420401962970013678746745338160460491534602253858691556458062025772926382\n",
      "69603658134531376683352097715950281523652313907489461048876765979998014119325\n",
      "False\n"
     ]
    }
   ],
   "source": [
    "calculation = (pow(g, total_res['s1'], p)*pow(y1, total_res['e1'], p)) % p\n",
    "e2_V = int(sha256((str(msg) + str(Y) + str(calculation)).encode()).hexdigest(), 16)\n",
    "calculation = (pow(g, total_res['s2'], p) * pow(y2, e2_V, p)) % p\n",
    "e3_V = int(sha256((str(msg) + str(Y) + str(calculation)).encode()).hexdigest(), 16)\n",
    "calculation = (pow(g, total_res['s3'], p)*pow(y3, e3_V, p)) % p\n",
    "e1_V = int(sha256((str(msg) + str(Y) + str(calculation)).encode()).hexdigest(), 16)\n",
    "\n",
    "print(e1_V)\n",
    "print(e2_V)\n",
    "print(e3_V)\n",
    "print(e1_V==e1)"
   ]
  },
  {
   "cell_type": "code",
   "execution_count": 442,
   "metadata": {},
   "outputs": [
    {
     "data": {
      "text/plain": [
       "261560713341851367975734800545358598660"
      ]
     },
     "execution_count": 442,
     "metadata": {},
     "output_type": "execute_result"
    }
   ],
   "source": [
    "(pow(g, total_res['s2'], p) * pow(y2, e2_V, p)) % p"
   ]
  },
  {
   "cell_type": "code",
   "execution_count": 443,
   "metadata": {},
   "outputs": [
    {
     "data": {
      "text/plain": [
       "42304195821529907130378650741573395047"
      ]
     },
     "execution_count": 443,
     "metadata": {},
     "output_type": "execute_result"
    }
   ],
   "source": [
    "pow(g, r, p)"
   ]
  },
  {
   "cell_type": "code",
   "execution_count": 444,
   "metadata": {},
   "outputs": [
    {
     "name": "stdout",
     "output_type": "stream",
     "text": [
      "Generated DSA Parameters:\n",
      "p: 179267443891248860254939514430752232148189824163768753050332632254953809453335106645892564114948638629252645331084883369448428416374045934317914802991299183017417033922917997102531506329087626193577988481568054151840081651630176903667923157158065751827361336023220831605406164441934473317109346231773825873999\n",
      "q: 1429392879337943091689125951822528436375009819447\n",
      "g: 10379232353411704571219882187842266100719486704541527001995635780425419631475915047600726278345894366277043297772970392658225814011435862838929471092329718462461174649602617547781315477656859240264525923586379724461039847993018781212153158644959810877816393531197433255855714772205210581659978815418323070578\n",
      "\n",
      "Private Key: <cryptography.hazmat.bindings._rust.openssl.dsa.DSAPrivateKey object at 0x0000021D11D673D0>\n",
      "Public Key: <cryptography.hazmat.bindings._rust.openssl.dsa.DSAPublicKey object at 0x0000021D11D67650>\n",
      "msg: Hello, Ring Signature\n",
      "pubkeys: [93902153824935655886390202232510858039897849121455211611444645245000003549784450175870709942294473898377280733013567842024000598439087452611351063877287757514473005375972638949780690673726467814811426051923044893357579708543915994929477542537414779484569724232738871292111179222357016146360470956173336481008, 81359938579995127533680497852287991514982846215251186554801079714142101608515701151700141602866517441096877183342835529464336394438332352386921946563773077384378575405303610104587223604718758495090228703255669530666875702039956599829600141677331045630411059156794377207267488002278403791614208482577230425947, 15835888721728902172520126596354513614776592124796361278627670813715735673874338242450208316959271369807668377084654392136968171829266185007723623866727025470098327389570823345534318568523205644596581594774604218930466829744383153870138578025306339948486175288331294624137675108373350848652741953673437447308]\n",
      "Y: 939021538249356558863902022325108580398978491214552116114446452450000035497844501758707099422944738983772807330135678420240005984390874526113510638772877575144730053759726389497806906737264678148114260519230448933575797085439159949294775425374147794845697242327388712921111792223570161463604709561733364810088135993857999512753368049785228799151498284621525118655480107971414210160851570115170014160286651744109687718334283552946433639443833235238692194656377307738437857540530361010458722360471875849509022870325566953066687570203995659982960014167733104563041105915679437720726748800227840379161420848257723042594715835888721728902172520126596354513614776592124796361278627670813715735673874338242450208316959271369807668377084654392136968171829266185007723623866727025470098327389570823345534318568523205644596581594774604218930466829744383153870138578025306339948486175288331294624137675108373350848652741953673437447308\n",
      "e3: 113494521128346651099627761371903136101005313024718177468677652597149363464562\n",
      "random_s3: 202534328525657743077884979180742532376823526675\n",
      "e1: 52870908907941062786778386702178115158233491072327341728383932170884060954611\n",
      "random_s1: 45592014699932989631523253814191560349023091288\n",
      "e2: 42567490944278793259865458724901112117477923098597010451936208345516100791267\n",
      "s2: 571292168840070697798399476932524854984470702211\n",
      "signature process total result:\n"
     ]
    },
    {
     "data": {
      "text/plain": [
       "{'e1': 52870908907941062786778386702178115158233491072327341728383932170884060954611,\n",
       " 's1': 45592014699932989631523253814191560349023091288,\n",
       " 's2': 571292168840070697798399476932524854984470702211,\n",
       " 's3': 202534328525657743077884979180742532376823526675}"
      ]
     },
     "metadata": {},
     "output_type": "display_data"
    }
   ],
   "source": [
    "from cryptography.hazmat.primitives.asymmetric import dsa\n",
    "from cryptography.hazmat.backends import default_backend\n",
    "\n",
    "def generate_dsa_parameters():\n",
    "    # Generate DSA parameters with 1024-bit p and 160-bit q\n",
    "    parameters = dsa.generate_parameters(key_size=1024, backend=default_backend())\n",
    "    \n",
    "    # Generate private and public keys based on the generated parameters\n",
    "    private_key = parameters.generate_private_key()\n",
    "    public_key = private_key.public_key()\n",
    "\n",
    "    # Access the DSA parameters\n",
    "    p = parameters.parameter_numbers().p\n",
    "    q = parameters.parameter_numbers().q\n",
    "    g = parameters.parameter_numbers().g\n",
    "\n",
    "    print(\"Generated DSA Parameters:\")\n",
    "    print(\"p:\", p)\n",
    "    print(\"q:\", q)\n",
    "    print(\"g:\", g)\n",
    "    print(\"\\nPrivate Key:\", private_key)\n",
    "    print(\"Public Key:\", public_key)\n",
    "    return p,q,g\n",
    "\n",
    "p,q,g = generate_dsa_parameters()\n",
    "\n",
    "def generate_keys(g, p):\n",
    "    # 生成私钥s\n",
    "    s = random.randint(1, p-2)\n",
    "    # 计算公钥v = g^s mod p\n",
    "    v = pow(g, s, p)\n",
    "    return s, v\n",
    "\n",
    "msg = 'Hello, Ring Signature'\n",
    "print('msg:', msg)\n",
    "\n",
    "x1, y1 = generate_keys(g, p)\n",
    "x2, y2 = generate_keys(g, p)\n",
    "x3, y3 = generate_keys(g, p)\n",
    "public_key_list = [y1, y2, y3]\n",
    "print('pubkeys:', public_key_list)\n",
    "Y = ''.join([str(i) for i in public_key_list])\n",
    "print('Y:', Y)\n",
    "\n",
    "r, R = generate_keys(g, p)\n",
    "e3 = int(sha256((str(msg) + str(Y) + str(pow(g, r, p))).encode()).hexdigest(), 16) % p\n",
    "print('e3:', e3)\n",
    "\n",
    "_, random_s3 = generate_keys(g, q)\n",
    "print('random_s3:', random_s3)\n",
    "\n",
    "calculation = (pow(g, random_s3, p)*pow(y3, e3, p)) % p\n",
    "e1 = int(sha256((str(msg) + str(Y) + str(calculation)).encode()).hexdigest(), 16) % p\n",
    "print('e1:', e1)\n",
    "\n",
    "_, random_s1 = generate_keys(g, q)\n",
    "print('random_s1:', random_s1)\n",
    "\n",
    "calculation = (pow(g, random_s1, p)*pow(y1, e1, p)) % p\n",
    "e2 = int(sha256((str(msg) + str(Y) + str(calculation)).encode()).hexdigest(), 16) % p\n",
    "print('e2:', e2)\n",
    "\n",
    "s2 = (r - x2 * e2) % q\n",
    "print('s2:', s2)\n",
    "\n",
    "total_res = {\n",
    "    'e1': e1,\n",
    "    's1': random_s1,\n",
    "    's2': s2,\n",
    "    's3': random_s3\n",
    "}\n",
    "\n",
    "print('signature process total result:')\n",
    "display(total_res)"
   ]
  },
  {
   "cell_type": "code",
   "execution_count": 445,
   "metadata": {},
   "outputs": [
    {
     "name": "stdout",
     "output_type": "stream",
     "text": [
      "52870908907941062786778386702178115158233491072327341728383932170884060954611\n",
      "42567490944278793259865458724901112117477923098597010451936208345516100791267\n",
      "113494521128346651099627761371903136101005313024718177468677652597149363464562\n",
      "True\n"
     ]
    }
   ],
   "source": [
    "calculation = (pow(g, total_res['s1'], p)*pow(y1, total_res['e1'], p)) % p\n",
    "e2_V = int(sha256((str(msg) + str(Y) + str(calculation)).encode()).hexdigest(), 16)\n",
    "calculation = (pow(g, total_res['s2'], p) * pow(y2, e2_V, p)) % p\n",
    "e3_V = int(sha256((str(msg) + str(Y) + str(calculation)).encode()).hexdigest(), 16)\n",
    "calculation = (pow(g, total_res['s3'], p)*pow(y3, e3_V, p)) % p\n",
    "e1_V = int(sha256((str(msg) + str(Y) + str(calculation)).encode()).hexdigest(), 16)\n",
    "\n",
    "print(e1_V)\n",
    "print(e2_V)\n",
    "print(e3_V)\n",
    "print(e1_V==e1)"
   ]
  }
 ],
 "metadata": {
  "kernelspec": {
   "display_name": "Python 3",
   "language": "python",
   "name": "python3"
  },
  "language_info": {
   "codemirror_mode": {
    "name": "ipython",
    "version": 3
   },
   "file_extension": ".py",
   "mimetype": "text/x-python",
   "name": "python",
   "nbconvert_exporter": "python",
   "pygments_lexer": "ipython3",
   "version": "3.12.1"
  }
 },
 "nbformat": 4,
 "nbformat_minor": 2
}
