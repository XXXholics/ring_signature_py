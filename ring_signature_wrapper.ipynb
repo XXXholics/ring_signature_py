{
 "cells": [
  {
   "cell_type": "code",
   "execution_count": 2,
   "metadata": {},
   "outputs": [],
   "source": [
    "# necessary Modules\n",
    "\n",
    "import random\n",
    "from hashlib import sha256, sha3_256"
   ]
  },
  {
   "cell_type": "code",
   "execution_count": 3,
   "metadata": {},
   "outputs": [
    {
     "name": "stdout",
     "output_type": "stream",
     "text": [
      "[[712248996, 664603032], [131056189, 686040541], [218352875, 69406070], [384999500, 21571338], [634299836, 418696564], [134168262, 531033154], [353470094, 922695381], [676020449, 135166152], [414283557, 679990306], [37335846, 926592357], [96374602, 613751589]]\n"
     ]
    },
    {
     "data": {
      "text/plain": [
       "{'e1': 47111303927130558371729202037086723609932139677933603935963851617944420835686,\n",
       " 'sig_list': [881370404,\n",
       "  585769225,\n",
       "  882449527,\n",
       "  298131238,\n",
       "  136651118,\n",
       "  371577616,\n",
       "  111491706,\n",
       "  473721463,\n",
       "  899557843,\n",
       "  759555295,\n",
       "  850435196],\n",
       " 'public_key_list': [664603032,\n",
       "  686040541,\n",
       "  69406070,\n",
       "  21571338,\n",
       "  418696564,\n",
       "  531033154,\n",
       "  922695381,\n",
       "  135166152,\n",
       "  679990306,\n",
       "  926592357,\n",
       "  613751589],\n",
       " 'tag': 185721214,\n",
       " 'msg': 'Hello, Ring Signature',\n",
       " 'e_list': [47111303927130558371729202037086723609932139677933603935963851617944420835686,\n",
       "  98225134333774521677269740447249684453883327501947092157798963006837519446155,\n",
       "  71163050164265827047854608145740619072694770971401609490095885158234486116155,\n",
       "  77170230064583136480455732443551177704183068917384738918516557632547881125812,\n",
       "  47581385473974822091619754424202616680142119156390870524548256151342697072179,\n",
       "  113341114984676806171576405939798474921420151149376647905692516415806357467536,\n",
       "  77910994487592688885464025510646805495996920242336966218501569556499244165209,\n",
       "  92110003357510575642963321687827121771941207226416349213804344240693680159921,\n",
       "  50622445171916285881972943432983314467732691863599672835220915150151542681638,\n",
       "  18620763527331296864989265593002966777422532423587311852815802832850237067733,\n",
       "  26392061964920997030007175765747467452223723052256421803717813530463628570472]}"
      ]
     },
     "metadata": {},
     "output_type": "display_data"
    }
   ],
   "source": [
    "# function to create s (secret key) and v (public key) with given g (generator) and p (prime mod)  \n",
    "def generate_keys(g, p):\n",
    "    # secret key s\n",
    "    s = random.randint(1, p-2)\n",
    "    # public key = g^s mod p\n",
    "    v = pow(g, s, p)\n",
    "    return s, v\n",
    "\n",
    "\n",
    "# function to generate n random secret and public keys\n",
    "def generate_n_random_keys(n):\n",
    "    keys_list = []\n",
    "    for _ in range(n):\n",
    "        x_temp, y_temp = generate_keys(g, p)\n",
    "        keys_list.append([x_temp, y_temp])\n",
    "    return keys_list\n",
    "\n",
    "\n",
    "def concat_and_shuffle_total_keys(keys_list, x, y):\n",
    "    keys_list.append([x, y])\n",
    "    random.shuffle(keys_list)\n",
    "    return keys_list\n",
    "\n",
    "\n",
    "def get_real_key_position(keys_list, y):\n",
    "    public_key_list = [key[1] for key in keys_list]\n",
    "    return public_key_list.index(y)\n",
    "\n",
    "\n",
    "def get_Y(keys_list):\n",
    "    public_key_list = [key[1] for key in keys_list]\n",
    "    Y = ''.join([str(i) for i in public_key_list])\n",
    "    return Y\n",
    "\n",
    "\n",
    "def get_initial_random_r_and_R(g, p):\n",
    "    r, R = generate_keys(g, p)\n",
    "    return r, R\n",
    "\n",
    "\n",
    "def sign(msg, Y, g, r, p, keys_list, x_real, y_real):\n",
    "    idx = (get_real_key_position(total_keys_list, y_real) + 1) % len(total_keys_list)\n",
    "    e_list = [None for _ in range(len(keys_list))]\n",
    "    sig_list = [None for _ in range(len(keys_list))]\n",
    "    h = int(sha3_256(str(Y).encode()).hexdigest(), 16)\n",
    "    y_wave = pow(h, x_real, p)\n",
    "    e_initial = int(sha256((str(Y) + str(y_wave) +str(msg) + str(pow(g,r,p)) + str(pow(h,r,p))).encode()).hexdigest(), 16)\n",
    "    e_list[idx] = e_initial\n",
    "    while keys_list[idx][1] != y_real:\n",
    "        e_last_one = e_list[idx]\n",
    "        _, random_sig = generate_keys(g, p)\n",
    "        sig_list[idx] = random_sig\n",
    "        temp_y = keys_list[idx][1]\n",
    "        calculation = (pow(g, random_sig, p)*pow(temp_y, e_last_one, p)) % p\n",
    "        calculation_1 = (pow(h, random_sig, p)*pow(y_wave, e_last_one, p)) % p\n",
    "        temp_e = int(sha256((str(Y) + str(y_wave) +str(msg) + str(calculation) + str(calculation_1)).encode()).hexdigest(), 16)\n",
    "        idx = (idx + 1) % len(total_keys_list)\n",
    "        e_list[idx] = temp_e\n",
    "        \n",
    "    # q is the order for p, see paper page 6, part 4, the first sentence. \n",
    "    q = p - 1\n",
    "    s_real = (r - x_real * e_list[idx]) % q\n",
    "    sig_list[idx] = s_real\n",
    "    public_key_list = [key[1] for key in keys_list] \n",
    "    total_res = {\n",
    "        'e1': e_list[0],\n",
    "        'sig_list': sig_list,\n",
    "        'public_key_list': public_key_list,\n",
    "        'tag': y_wave,\n",
    "        'msg': msg,\n",
    "        'e_list': e_list\n",
    "    }\n",
    "    return total_res\n",
    "        \n",
    "    \n",
    "    \n",
    "\n",
    "# define the prime p, and the g (primitive root of p) used in the whole process\n",
    "p = 1000000007  # prime\n",
    "g = 5  # primitive root of p\n",
    "\n",
    "msg = 'Hello, Ring Signature'\n",
    "random_keys_count = 10\n",
    "\n",
    "random_keys_list = generate_n_random_keys(random_keys_count)\n",
    "x_real, y_real = generate_keys(g, p)\n",
    "total_keys_list = concat_and_shuffle_total_keys(random_keys_list, x_real, y_real)\n",
    "print(total_keys_list)\n",
    "real_key_index = get_real_key_position(total_keys_list, y_real)\n",
    "Y = get_Y(total_keys_list)\n",
    "r, R = get_initial_random_r_and_R(g, p)\n",
    "total_res = sign(msg, Y, g, r, p, total_keys_list, x_real, y_real)\n",
    "\n",
    "display(total_res)\n",
    "\n"
   ]
  },
  {
   "cell_type": "code",
   "execution_count": 4,
   "metadata": {},
   "outputs": [
    {
     "name": "stdout",
     "output_type": "stream",
     "text": [
      "temp_e_V: 47111303927130558371729202037086723609932139677933603935963851617944420835686\n",
      "temp_e_V: 98225134333774521677269740447249684453883327501947092157798963006837519446155\n",
      "temp_e_V: 71163050164265827047854608145740619072694770971401609490095885158234486116155\n",
      "temp_e_V: 77170230064583136480455732443551177704183068917384738918516557632547881125812\n",
      "temp_e_V: 47581385473974822091619754424202616680142119156390870524548256151342697072179\n",
      "temp_e_V: 113341114984676806171576405939798474921420151149376647905692516415806357467536\n",
      "temp_e_V: 77910994487592688885464025510646805495996920242336966218501569556499244165209\n",
      "temp_e_V: 92110003357510575642963321687827121771941207226416349213804344240693680159921\n",
      "temp_e_V: 50622445171916285881972943432983314467732691863599672835220915150151542681638\n",
      "temp_e_V: 18620763527331296864989265593002966777422532423587311852815802832850237067733\n",
      "temp_e_V: 26392061964920997030007175765747467452223723052256421803717813530463628570472\n",
      "47111303927130558371729202037086723609932139677933603935963851617944420835686\n",
      "47111303927130558371729202037086723609932139677933603935963851617944420835686\n",
      "True\n"
     ]
    }
   ],
   "source": [
    "def verify(total_res):\n",
    "    public_key_list = total_res['public_key_list']\n",
    "    Y = ''.join([str(i) for i in public_key_list])\n",
    "    h = int(sha3_256(str(Y).encode()).hexdigest(), 16)\n",
    "\n",
    "    sig_list = total_res['sig_list']\n",
    "    temp_e_V = e1 = total_res['e1']\n",
    "    msg = total_res['msg']\n",
    "    tag = total_res['tag']\n",
    "    \n",
    "    for i in range(len(sig_list)):\n",
    "        print('temp_e_V:',  temp_e_V)\n",
    "        temp_sig = sig_list[i]\n",
    "        temp_y = public_key_list[i]\n",
    "        calculation = (pow(g, temp_sig, p)*pow(temp_y, temp_e_V, p)) % p\n",
    "        calculation_1 = (pow(h, temp_sig, p)*pow(tag, temp_e_V, p)) % p\n",
    "        temp_e_V = int(sha256((str(Y) + str(tag) + str(msg) + str(calculation) + str(calculation_1)).encode()).hexdigest(), 16)\n",
    "    \n",
    "    print(e1)\n",
    "    print(temp_e_V)\n",
    "    print(temp_e_V == e1) \n",
    "\n",
    "verify(total_res)"
   ]
  },
  {
   "cell_type": "code",
   "execution_count": 7,
   "metadata": {},
   "outputs": [
    {
     "data": {
      "text/plain": [
       "{'e1': 20109497603014776828441311798665477380921256639517370245930503994392475509595,\n",
       " 'sig_list': [856977903,\n",
       "  996976730,\n",
       "  446750408,\n",
       "  188589917,\n",
       "  177738267,\n",
       "  246052167,\n",
       "  862983367,\n",
       "  102910180,\n",
       "  769286149,\n",
       "  945287543,\n",
       "  395692106],\n",
       " 'public_key_list': [664603032,\n",
       "  686040541,\n",
       "  69406070,\n",
       "  21571338,\n",
       "  418696564,\n",
       "  531033154,\n",
       "  922695381,\n",
       "  135166152,\n",
       "  679990306,\n",
       "  926592357,\n",
       "  613751589],\n",
       " 'tag': 185721214,\n",
       " 'msg': 'new test',\n",
       " 'e_list': [20109497603014776828441311798665477380921256639517370245930503994392475509595,\n",
       "  73069181243734537663811298891026231875451288413815807220204329927607846880841,\n",
       "  55495077272290377681204822956889342230163716453990948479896077977586784588926,\n",
       "  40073531089114829249512406285222235707320077231903384046022013931334456337633,\n",
       "  79853481054680763236059260156534550430184267048033851096834398303278513458185,\n",
       "  79279031873795290251898406725123544113386751188993493937347957060668887375074,\n",
       "  59945720945732304097300561097007264685295933833700708588219695357353707675515,\n",
       "  95183557187260401661540449380759068021511432490417703018653428833273754641257,\n",
       "  29908014910166175947787249850297794594291414378916192713449052838314207111274,\n",
       "  87786878810347653667293801926851023734512003224220401631937299172631499076910,\n",
       "  57890300003678398855731080688332230229927604064561124032772446075791117491909]}"
      ]
     },
     "metadata": {},
     "output_type": "display_data"
    },
    {
     "name": "stdout",
     "output_type": "stream",
     "text": [
      "None\n",
      "True\n"
     ]
    }
   ],
   "source": [
    "msg_1 = 'new test'\n",
    "\n",
    "total_res_1 = sign(msg_1, Y, g, r, p, total_keys_list, x_real, y_real)\n",
    "print(display(total_res_1))\n",
    "print(total_res_1['tag'] == total_res['tag'])"
   ]
  },
  {
   "cell_type": "code",
   "execution_count": 6,
   "metadata": {},
   "outputs": [
    {
     "name": "stdout",
     "output_type": "stream",
     "text": [
      "g = 5 is a primitive root of p = 1000000007: True\n"
     ]
    }
   ],
   "source": [
    "def is_primitive_root(p, g):\n",
    "    n = p - 1\n",
    "    factors = []\n",
    "    i = 2\n",
    "    while i * i <= n:\n",
    "        if n % i == 0:\n",
    "            factors.append(i)\n",
    "            while n % i == 0:\n",
    "                n //= i\n",
    "        i += 1\n",
    "    if n > 1:\n",
    "        factors.append(n)\n",
    "\n",
    "    for factor in factors:\n",
    "        if pow(g, (p-1) // factor, p) == 1:\n",
    "            return False\n",
    "    return True\n",
    "\n",
    "p = 1000000007 \n",
    "g = 5 \n",
    "\n",
    "result = is_primitive_root(p, g)\n",
    "print(f\"g = {g} is a primitive root of p = {p}: {result}\")\n"
   ]
  }
 ],
 "metadata": {
  "kernelspec": {
   "display_name": "Python 3",
   "language": "python",
   "name": "python3"
  },
  "language_info": {
   "codemirror_mode": {
    "name": "ipython",
    "version": 3
   },
   "file_extension": ".py",
   "mimetype": "text/x-python",
   "name": "python",
   "nbconvert_exporter": "python",
   "pygments_lexer": "ipython3",
   "version": "3.12.1"
  }
 },
 "nbformat": 4,
 "nbformat_minor": 2
}
