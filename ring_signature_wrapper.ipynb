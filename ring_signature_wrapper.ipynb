{
 "cells": [
  {
   "cell_type": "code",
   "execution_count": 31,
   "metadata": {},
   "outputs": [],
   "source": [
    "# necessary Modules\n",
    "\n",
    "import random\n",
    "from hashlib import sha256, sha3_256\n",
    "import sympy"
   ]
  },
  {
   "cell_type": "code",
   "execution_count": 32,
   "metadata": {},
   "outputs": [
    {
     "name": "stdout",
     "output_type": "stream",
     "text": [
      "prime:  224710685719495060258256606457699928103\n",
      "q: 112355342859747530129128303228849964051\n"
     ]
    },
    {
     "data": {
      "text/plain": [
       "{'e1': 57289108914561308583482816483541787373368309869154547389554140862688771092189,\n",
       " 'sig_list': [185014343212421197658956846310602882203,\n",
       "  87905042311524951582304053054954409932,\n",
       "  1407068846186674425068020270838055845,\n",
       "  59494978662547562864270762870404748077,\n",
       "  69122631859187469496024365574833293862,\n",
       "  43268847499326367393398359892719938586,\n",
       "  12313177626908770388208808557904716240,\n",
       "  119089755959182193078468326357026353733,\n",
       "  73840675200910473813474717286974005118,\n",
       "  82766585703582382863983451782946278947,\n",
       "  75791769157466589373832606580740826208],\n",
       " 'public_key_list': [40328962056998690303794782529429710469,\n",
       "  159523871802407578067319899303667160141,\n",
       "  139192738075522857220810422713151095671,\n",
       "  140756302582080806639952776904337860908,\n",
       "  102858608247867137114561849586024472391,\n",
       "  147008866697392189886789258556433265546,\n",
       "  176461958112014665175457513823256941230,\n",
       "  32366713811293173201088693378151522014,\n",
       "  65772743918354511489856164815128389044,\n",
       "  7287443542933821650607414463492367865,\n",
       "  133281772671421419309026929177607602387],\n",
       " 'tag': 37606719316207272933328966340247135951,\n",
       " 'msg': 'Hello, Ring Signature'}"
      ]
     },
     "metadata": {},
     "output_type": "display_data"
    }
   ],
   "source": [
    "# function to create s (secret key) and v (public key) with given g (generator) and p (prime mod)  \n",
    "def generate_keys(g, p):\n",
    "    # secret key s\n",
    "    s = random.randint(1, p-2)\n",
    "    # public key = g^s mod p\n",
    "    v = pow(g, s, p)\n",
    "    return s, v\n",
    "\n",
    "\n",
    "# function to generate n random secret and public keys\n",
    "def generate_n_random_keys(n):\n",
    "    # a list to store all the pubkey and secrect keys\n",
    "    keys_list = []\n",
    "    for _ in range(n):\n",
    "        # generate random keys\n",
    "        x_temp, y_temp = generate_keys(g, p)\n",
    "        # append random keys\n",
    "        keys_list.append([x_temp, y_temp])\n",
    "    return keys_list\n",
    "\n",
    "# function to concat the real key to the random key list and shuffle\n",
    "def concat_and_shuffle_total_keys(keys_list, x, y):\n",
    "    # append the real key\n",
    "    keys_list.append([x, y])\n",
    "    # do the shuffle\n",
    "    random.shuffle(keys_list)\n",
    "    return keys_list\n",
    "\n",
    "# function to get the real public key's corresponding position\n",
    "def get_real_key_position(keys_list, y):\n",
    "    # make the public keys into one list for index\n",
    "    public_key_list = [key[1] for key in keys_list]\n",
    "    # return the real public key index\n",
    "    return public_key_list.index(y)\n",
    "\n",
    "# function to get the Y, which is the string containing all the public key used in this signature\n",
    "def get_Y(keys_list):\n",
    "    # make the public keys into one list for getting the Y\n",
    "    public_key_list = [key[1] for key in keys_list]\n",
    "    # generate Y, which is the string containing all the public key used in this signature\n",
    "    Y = ''.join([str(i) for i in public_key_list])\n",
    "    return Y\n",
    "\n",
    "# function to get the initial random value r and R used in the signature\n",
    "def get_initial_random_r_and_R(g, p):\n",
    "    r, R = generate_keys(g, p)\n",
    "    return r, R\n",
    "\n",
    "# function to generate the signature\n",
    "def sign(msg, Y, g, r, p, keys_list, x_real, y_real):\n",
    "    # find the real pubkey's position and +1 to get the next position\n",
    "    idx = (get_real_key_position(total_keys_list, y_real) + 1) % len(total_keys_list)\n",
    "    # initial the e_list with None (which represents c in the thesis)\n",
    "    e_list = [None for _ in range(len(keys_list))]\n",
    "    # initial the signature list with None \n",
    "    sig_list = [None for _ in range(len(keys_list))]\n",
    "    # calculate the h with Y and using another hash function (thesis 4.1.1)\n",
    "    h = int(sha3_256(str(Y).encode()).hexdigest(), 16)\n",
    "    # calculate y wave (thesis 4.1.1)\n",
    "    y_wave = pow(h, x_real, p)\n",
    "    # calculate the first e with the random number \"r\" (thesis 4.1.2)\n",
    "    e_initial = int(sha256((str(Y) + str(y_wave) +str(msg) + str(pow(g,r,p)) + str(pow(h,r,p))).encode()).hexdigest(), 16)\n",
    "    # place the \"e\" into e_list\n",
    "    e_list[idx] = e_initial\n",
    "    # do the while loop, in order to calculate each position's value until the real public key's position\n",
    "    while keys_list[idx][1] != y_real:\n",
    "        # find the \"e\" used in last term loop\n",
    "        e_last_one = e_list[idx]\n",
    "        # generate the random value for the signature (thesis 4.1.3 start)\n",
    "        _, random_sig = generate_keys(g, p)\n",
    "        # place it to the position\n",
    "        sig_list[idx] = random_sig\n",
    "        # find this term cooresponding y\n",
    "        temp_y = keys_list[idx][1]\n",
    "        # do the calculation (thesis 4.1.3 for last two parts)\n",
    "        # gy part\n",
    "        calculation = (pow(g, random_sig, p)*pow(temp_y, e_last_one, p)) % p\n",
    "        # hy part\n",
    "        calculation_1 = (pow(h, random_sig, p)*pow(y_wave, e_last_one, p)) % p\n",
    "        # calculate the e for this term (thesis 4.1.3 end)\n",
    "        temp_e = int(sha256((str(Y) + str(y_wave) +str(msg) + str(calculation) + str(calculation_1)).encode()).hexdigest(), 16)\n",
    "        # index += 1\n",
    "        idx = (idx + 1) % len(total_keys_list)\n",
    "        # place the \"e\"\n",
    "        e_list[idx] = temp_e\n",
    "        \n",
    "    # q, see paper page 6, part 4, the first sentence. \n",
    "    # q = (p - 1)/2\n",
    "    q = (p-1)//2\n",
    "    print('q:', q)\n",
    "    # do the real signature (thesis 4.1.4)\n",
    "    s_real = (r - x_real * e_list[idx]) % q\n",
    "    sig_list[idx] = s_real\n",
    "    public_key_list = [key[1] for key in keys_list] \n",
    "    total_res = {\n",
    "        'e1': e_list[0],\n",
    "        'sig_list': sig_list,\n",
    "        'public_key_list': public_key_list,\n",
    "        'tag': y_wave,\n",
    "        'msg': msg,\n",
    "    }\n",
    "    return total_res\n",
    "    \n",
    "# generate the safe prime\n",
    "def generate_safe_prime(bits):\n",
    "    while True:\n",
    "        p = sympy.randprime(2**(bits-1), 2**bits)\n",
    "        if sympy.isprime((p-1)//2):\n",
    "            return int(p)\n",
    "\n",
    "# define the safe prime p in 128 bits, and the g (primitive root of p) used in the whole process\n",
    "p = generate_safe_prime(128)\n",
    "print('prime: ',p)\n",
    "g = 5 \n",
    "msg = 'Hello, Ring Signature'\n",
    "random_keys_count = 10\n",
    "\n",
    "# main function\n",
    "random_keys_list = generate_n_random_keys(random_keys_count)\n",
    "x_real, y_real = generate_keys(g, p)\n",
    "total_keys_list = concat_and_shuffle_total_keys(random_keys_list, x_real, y_real)\n",
    "real_key_index = get_real_key_position(total_keys_list, y_real)\n",
    "Y = get_Y(total_keys_list)\n",
    "r, R = get_initial_random_r_and_R(g, p)\n",
    "total_res = sign(msg, Y, g, r, p, total_keys_list, x_real, y_real)\n",
    "\n",
    "display(total_res)"
   ]
  },
  {
   "cell_type": "code",
   "execution_count": 34,
   "metadata": {},
   "outputs": [
    {
     "name": "stdout",
     "output_type": "stream",
     "text": [
      "temp_e_V: 57289108914561308583482816483541787373368309869154547389554140862688771092189\n",
      "temp_e_V: 64884885644900410094068242260614111778026812039169265266119921306870236563483\n",
      "temp_e_V: 84885438583525891615065393508968103827969350553851062133250424969298778915682\n",
      "temp_e_V: 15588086540735453430203215339652242816047579735841822014556550421205205680317\n",
      "temp_e_V: 59774800618099216636571683466594330277393769294114073282598289819181575924185\n",
      "temp_e_V: 51668408493385968953219341330029335064564123164873920192177640664009722583593\n",
      "temp_e_V: 23541980456627074391408796565910213729698595877263671415356192567442911943252\n",
      "temp_e_V: 35192646773829814988852719048334599990838152158104604197095440555829395345003\n",
      "temp_e_V: 780812297941193985852506879121353809767004499491965843909606232764403231269\n",
      "temp_e_V: 20946136465378422776343977428050939472013183682949073899286411148475088098411\n",
      "temp_e_V: 60189088957649743522471094953355502383429091935995091159071400713068966653515\n",
      "57289108914561308583482816483541787373368309869154547389554140862688771092189\n",
      "57289108914561308583482816483541787373368309869154547389554140862688771092189\n",
      "True\n"
     ]
    }
   ],
   "source": [
    "def verify(total_res):\n",
    "    public_key_list = total_res['public_key_list']\n",
    "    Y = ''.join([str(i) for i in public_key_list])\n",
    "    h = int(sha3_256(str(Y).encode()).hexdigest(), 16)\n",
    "\n",
    "    sig_list = total_res['sig_list']\n",
    "    temp_e_V = e1 = total_res['e1']\n",
    "    msg = total_res['msg']\n",
    "    tag = total_res['tag']\n",
    "    \n",
    "    for i in range(len(sig_list)):\n",
    "        print('temp_e_V:',  temp_e_V)\n",
    "        temp_sig = sig_list[i]\n",
    "        temp_y = public_key_list[i]\n",
    "        calculation = (pow(g, temp_sig, p)*pow(temp_y, temp_e_V, p)) % p\n",
    "        calculation_1 = (pow(h, temp_sig, p)*pow(tag, temp_e_V, p)) % p\n",
    "        temp_e_V = int(sha256((str(Y) + str(tag) + str(msg) + str(calculation) + str(calculation_1)).encode()).hexdigest(), 16)\n",
    "    \n",
    "    print(e1)\n",
    "    print(temp_e_V)\n",
    "    print(temp_e_V == e1) \n",
    "\n",
    "verify(total_res)"
   ]
  },
  {
   "cell_type": "code",
   "execution_count": 35,
   "metadata": {},
   "outputs": [
    {
     "name": "stdout",
     "output_type": "stream",
     "text": [
      "q: 112355342859747530129128303228849964051\n"
     ]
    },
    {
     "data": {
      "text/plain": [
       "{'e1': 92865454267432715384169708901225793628057433129744614178406322839189007592096,\n",
       " 'sig_list': [31079017130716592821175011228261016698,\n",
       "  116707165795621439822632451143729802746,\n",
       "  206747499993751972925314312024174295260,\n",
       "  172419247805942981137156052491505808590,\n",
       "  5408127746634669863457803862430107325,\n",
       "  218149802009101260757778865081820174004,\n",
       "  116549009289122950022599272023485496372,\n",
       "  136862275923730567302755815059633770022,\n",
       "  22171831460143077040313974754346817740,\n",
       "  69861416519405826021093069159671102293,\n",
       "  197221975559327306241267212732644268638],\n",
       " 'public_key_list': [40328962056998690303794782529429710469,\n",
       "  159523871802407578067319899303667160141,\n",
       "  139192738075522857220810422713151095671,\n",
       "  140756302582080806639952776904337860908,\n",
       "  102858608247867137114561849586024472391,\n",
       "  147008866697392189886789258556433265546,\n",
       "  176461958112014665175457513823256941230,\n",
       "  32366713811293173201088693378151522014,\n",
       "  65772743918354511489856164815128389044,\n",
       "  7287443542933821650607414463492367865,\n",
       "  133281772671421419309026929177607602387],\n",
       " 'tag': 37606719316207272933328966340247135951,\n",
       " 'msg': 'new test'}"
      ]
     },
     "metadata": {},
     "output_type": "display_data"
    },
    {
     "name": "stdout",
     "output_type": "stream",
     "text": [
      "total_res_1['tag'] == total_res['tag']: True\n"
     ]
    }
   ],
   "source": [
    "def check_tag(signature_res, signature_res_1):\n",
    "    return signature_res['tag'] == signature_res_1['tag']\n",
    "\n",
    "msg_1 = 'new test'\n",
    "total_res_1 = sign(msg_1, Y, g, r, p, total_keys_list, x_real, y_real)\n",
    "display(total_res_1)\n",
    "print(\"total_res_1['tag'] == total_res['tag']:\",check_tag(total_res, total_res_1))"
   ]
  },
  {
   "cell_type": "code",
   "execution_count": 36,
   "metadata": {},
   "outputs": [
    {
     "name": "stdout",
     "output_type": "stream",
     "text": [
      "g = 5 is a primitive root of p = 1000000007: True\n"
     ]
    }
   ],
   "source": [
    "def is_primitive_root(p, g):\n",
    "    n = p - 1\n",
    "    factors = []\n",
    "    i = 2\n",
    "    while i * i <= n:\n",
    "        if n % i == 0:\n",
    "            factors.append(i)\n",
    "            while n % i == 0:\n",
    "                n //= i\n",
    "        i += 1\n",
    "    if n > 1:\n",
    "        factors.append(n)\n",
    "\n",
    "    for factor in factors:\n",
    "        if pow(g, (p-1) // factor, p) == 1:\n",
    "            return False\n",
    "    return True\n",
    "\n",
    "p = 1000000007 \n",
    "g = 5 \n",
    "\n",
    "result = is_primitive_root(p, g)\n",
    "print(f\"g = {g} is a primitive root of p = {p}: {result}\")\n"
   ]
  },
  {
   "cell_type": "code",
   "execution_count": 37,
   "metadata": {},
   "outputs": [
    {
     "name": "stdout",
     "output_type": "stream",
     "text": [
      "q: 500000003\n"
     ]
    },
    {
     "data": {
      "text/plain": [
       "{'e1': 52932635015520690102669606878439076374223921588851612617365947714208443184858,\n",
       " 'sig_list': [69816858,\n",
       "  281124807,\n",
       "  316353968,\n",
       "  400840751,\n",
       "  802562457,\n",
       "  5004604,\n",
       "  920553542,\n",
       "  100736813,\n",
       "  340951710,\n",
       "  188267126,\n",
       "  456394787],\n",
       " 'public_key_list': [602558824,\n",
       "  544878822,\n",
       "  824453574,\n",
       "  438080607,\n",
       "  703854269,\n",
       "  573567152,\n",
       "  637907361,\n",
       "  842998597,\n",
       "  735999944,\n",
       "  769438731,\n",
       "  65772743918354511489856164815128389044],\n",
       " 'tag': 366852169,\n",
       " 'msg': 'Hello, Ring Signature'}"
      ]
     },
     "metadata": {},
     "output_type": "display_data"
    },
    {
     "name": "stdout",
     "output_type": "stream",
     "text": [
      "total_res['tag'] == total_res_2['tag']: False\n"
     ]
    }
   ],
   "source": [
    "# define the prime p, and the g (primitive root of p) used in the whole process\n",
    "p = 1000000007  # prime\n",
    "g = 5  # primitive root of p\n",
    "\n",
    "msg = 'Hello, Ring Signature'\n",
    "random_keys_count = 10\n",
    "\n",
    "random_keys_list = generate_n_random_keys(random_keys_count)\n",
    "# x_real, y_real = generate_keys(g, p)\n",
    "total_keys_list = concat_and_shuffle_total_keys(random_keys_list, x_real, y_real)\n",
    "real_key_index = get_real_key_position(total_keys_list, y_real)\n",
    "Y = get_Y(total_keys_list)\n",
    "r, R = get_initial_random_r_and_R(g, p)\n",
    "total_res_2 = sign(msg, Y, g, r, p, total_keys_list, x_real, y_real)\n",
    "\n",
    "display(total_res_2)\n",
    "print(\"total_res['tag'] == total_res_2['tag']:\",check_tag(total_res, total_res_2))"
   ]
  }
 ],
 "metadata": {
  "kernelspec": {
   "display_name": "Python 3",
   "language": "python",
   "name": "python3"
  },
  "language_info": {
   "codemirror_mode": {
    "name": "ipython",
    "version": 3
   },
   "file_extension": ".py",
   "mimetype": "text/x-python",
   "name": "python",
   "nbconvert_exporter": "python",
   "pygments_lexer": "ipython3",
   "version": "3.12.1"
  }
 },
 "nbformat": 4,
 "nbformat_minor": 2
}
