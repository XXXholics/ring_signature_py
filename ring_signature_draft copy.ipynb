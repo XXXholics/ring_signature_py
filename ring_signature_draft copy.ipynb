{
 "cells": [
  {
   "cell_type": "code",
   "execution_count": 368,
   "metadata": {},
   "outputs": [
    {
     "data": {
      "text/plain": [
       "79579958052646501458862762659181463507327558671984305947744525682632323264487747904473738543573763051771022054923877179971739948354892965023603986036785828872085838591102145343037263803231387634813975027113016288086841693808581613143788506046363292832869586430022949945483950735653589241022258421459693427909"
      ]
     },
     "execution_count": 368,
     "metadata": {},
     "output_type": "execute_result"
    }
   ],
   "source": [
    "y_wave = pow(h, x2, p)\n",
    "y_wave"
   ]
  },
  {
   "cell_type": "code",
   "execution_count": 369,
   "metadata": {},
   "outputs": [
    {
     "name": "stdout",
     "output_type": "stream",
     "text": [
      "Generated DSA Parameters:\n",
      "p: 96074658718289819654852732191520997842367736533201940153401085738430648656296649220988031328783142299601018656019251294898939944025803973219772881430620274182160801634850526500682250886119138044367469605904036148799623924093773171726447933586407243141661355537358425879793611678878966389125679726993710591731\n",
      "q: 1460273295577695843011364613799654976197879837537\n",
      "g: 60234245278512950505569432712337640179765972309960456173442288205964448463810425662638659681644493751909990294667061396156186255053626339757596379407463891082127586423366227507039197473911025805952418609164525465457870430717527749477322667001734642080502751450106118306389913434182454366539624369705472008588\n",
      "\n",
      "Private Key: <cryptography.hazmat.bindings._rust.openssl.dsa.DSAPrivateKey object at 0x00000276C540B710>\n",
      "Public Key: <cryptography.hazmat.bindings._rust.openssl.dsa.DSAPublicKey object at 0x00000276C5409010>\n",
      "msg: Hello, Ring Signature\n",
      "pubkeys: [77504017510737901033462476382747152217332431024910354105787594063228910851990406103468534171448501137667670723040660035785935426525646004981821642534415397039668633815248779184343064864187136852595397804772427182768444725433527800377265875419435847513201755362124217196544002067060513072184733981688796255757, 10952043885219668083242933859311682257472778742077365202891769470977850399070177738303447010785384157182198867132139626187603434092867547833342992249090036861747757388143274525887848290830443827606737847343400778869861277013524330618131437052842126488486076924573698808169469221466638947379943744772780352970, 3993606010011290653404023892292512583672997596976060059301423484069782353175764828441180520995095317334841623382616019078964613404231228753126676813522090296721528261899187079200067804146477893854771288733489068031673385465425478403321005310903717791444715860896849317450825484382574924839996997276410047773]\n",
      "Y: 77504017510737901033462476382747152217332431024910354105787594063228910851990406103468534171448501137667670723040660035785935426525646004981821642534415397039668633815248779184343064864187136852595397804772427182768444725433527800377265875419435847513201755362124217196544002067060513072184733981688796255757109520438852196680832429338593116822574727787420773652028917694709778503990701777383034470107853841571821988671321396261876034340928675478333429922490900368617477573881432745258878482908304438276067378473434007788698612770135243306181314370528421264884860769245736988081694692214666389473799437447727803529703993606010011290653404023892292512583672997596976060059301423484069782353175764828441180520995095317334841623382616019078964613404231228753126676813522090296721528261899187079200067804146477893854771288733489068031673385465425478403321005310903717791444715860896849317450825484382574924839996997276410047773\n",
      "e3: 772442077564776133621565032723162571295968943470\n",
      "random_s3: 1117490054659773885204427332906409412361305819261\n",
      "e1: 1257422836200334152636829932501079518027494066415\n",
      "random_s1: 748696063812714438950849690144117409197557690781\n",
      "e2: 749425345401069672404451462785610307040334761536\n",
      "s2: 20432120833742648517628831835845325467898450400773944970498901351674417067937153428689924842945819416995333087817773677686548736707483020783857807532989881853290161021086280484179732089978193110729461005266612541665526416369604485141367479292488039916471269309764996134382671248982773245790165075740730044167\n",
      "signature process total result:\n"
     ]
    },
    {
     "data": {
      "text/plain": [
       "{'e1': 1257422836200334152636829932501079518027494066415,\n",
       " 's1': 748696063812714438950849690144117409197557690781,\n",
       " 's2': 20432120833742648517628831835845325467898450400773944970498901351674417067937153428689924842945819416995333087817773677686548736707483020783857807532989881853290161021086280484179732089978193110729461005266612541665526416369604485141367479292488039916471269309764996134382671248982773245790165075740730044167,\n",
       " 's3': 1117490054659773885204427332906409412361305819261}"
      ]
     },
     "metadata": {},
     "output_type": "display_data"
    }
   ],
   "source": [
    "from cryptography.hazmat.primitives.asymmetric import dsa\n",
    "from cryptography.hazmat.backends import default_backend\n",
    "import random\n",
    "from hashlib import sha256, sha3_256\n",
    "\n",
    "\n",
    "def generate_dsa_parameters():\n",
    "    # Generate DSA parameters with 1024-bit p and 160-bit q\n",
    "    parameters = dsa.generate_parameters(key_size=1024, backend=default_backend())\n",
    "    \n",
    "    # Generate private and public keys based on the generated parameters\n",
    "    private_key = parameters.generate_private_key()\n",
    "    public_key = private_key.public_key()\n",
    "\n",
    "    # Access the DSA parameters\n",
    "    p = parameters.parameter_numbers().p\n",
    "    q = parameters.parameter_numbers().q\n",
    "    g = parameters.parameter_numbers().g\n",
    "\n",
    "    print(\"Generated DSA Parameters:\")\n",
    "    print(\"p:\", p)\n",
    "    print(\"q:\", q)\n",
    "    print(\"g:\", g)\n",
    "    print(\"\\nPrivate Key:\", private_key)\n",
    "    print(\"Public Key:\", public_key)\n",
    "    return p,q,g\n",
    "\n",
    "p,q,g = generate_dsa_parameters()\n",
    "\n",
    "def generate_keys(g, p):\n",
    "    # 生成私钥s\n",
    "    s = random.randint(1, p-2)\n",
    "    # 计算公钥v = g^s mod p\n",
    "    v = pow(g, s, p)\n",
    "    return s, v\n",
    "\n",
    "msg = 'Hello, Ring Signature'\n",
    "print('msg:', msg)\n",
    "\n",
    "x1, y1 = generate_keys(g, p)\n",
    "x2, y2 = generate_keys(g, p)\n",
    "x3, y3 = generate_keys(g, p)\n",
    "public_key_list = [y1, y2, y3]\n",
    "print('pubkeys:', public_key_list)\n",
    "Y = ''.join([str(i) for i in public_key_list])\n",
    "print('Y:', Y)\n",
    "\n",
    "h = int(sha3_256(str(Y).encode()).hexdigest(), 16) % p\n",
    "h = pow(g, h, p)\n",
    "y_wave = pow(h, x2, p)\n",
    "\n",
    "r, R = generate_keys(g, q)\n",
    "e3 = int(sha256(str(str(msg) + str(Y) + str(pow(g, r, p)) + str(y_wave) + str(pow(h, r, p))).encode()).hexdigest(), 16) % q\n",
    "print('e3:', e3)\n",
    "\n",
    "_, random_s3 = generate_keys(g, q)\n",
    "print('random_s3:', random_s3)\n",
    "\n",
    "calculation = (pow(g, random_s3, p)*pow(y3, e3, p)) % p\n",
    "calculation_1 = (pow(h, random_s3, p)*pow(y_wave, e3, p)) % p\n",
    "e1 = int(sha256(str(str(msg) + str(Y) + str(calculation) + str(y_wave) + str(calculation_1)).encode()).hexdigest(), 16) % q\n",
    "print('e1:', e1)\n",
    "\n",
    "_, random_s1 = generate_keys(g, q)\n",
    "print('random_s1:', random_s1)\n",
    "\n",
    "calculation = (pow(g, random_s1, p)*pow(y1, e1, p)) % p\n",
    "calculation_1 = (pow(h, random_s1, p)*pow(y_wave, e1, p)) % p\n",
    "e2 = int(sha256((str(msg) + str(Y) + str(calculation) + str(y_wave) + str(calculation_1)).encode()).hexdigest(), 16) % q\n",
    "print('e2:', e2)\n",
    "\n",
    "s2 = (r - x2 * e2) % ((p-1)//2)\n",
    "print('s2:', s2)\n",
    "\n",
    "total_res = {\n",
    "    'e1': e1,\n",
    "    's1': random_s1,\n",
    "    's2': s2,\n",
    "    's3': random_s3\n",
    "}\n",
    "\n",
    "print('signature process total result:')\n",
    "display(total_res)"
   ]
  },
  {
   "cell_type": "code",
   "execution_count": 370,
   "metadata": {},
   "outputs": [
    {
     "name": "stdout",
     "output_type": "stream",
     "text": [
      "1257422836200334152636829932501079518027494066415\n",
      "749425345401069672404451462785610307040334761536\n",
      "772442077564776133621565032723162571295968943470\n",
      "True\n"
     ]
    }
   ],
   "source": [
    "calculation = (pow(g, total_res['s1'], p)*pow(y1, total_res['e1'], p)) % p\n",
    "calculation_1 = (pow(h, total_res['s1'], p)*pow(y_wave, total_res['e1'], p)) % p\n",
    "e2_V = int(sha256((str(msg) + str(Y) + str(calculation) + str(y_wave) + str(calculation_1)).encode()).hexdigest(), 16) % q\n",
    "calculation = (pow(g, total_res['s2'], p) * pow(y2, e2_V, p)) % p\n",
    "calculation_1 = (pow(h, total_res['s2'], p)*pow(y_wave, e2_V, p)) % p\n",
    "e3_V = int(sha256((str(msg) + str(Y) + str(calculation) + str(y_wave) + str(calculation_1)).encode()).hexdigest(), 16) % q\n",
    "calculation = (pow(g, total_res['s3'], p)*pow(y3, e3_V, p)) % p\n",
    "calculation_1 = (pow(h, total_res['s3'], p)*pow(y_wave, e3_V, p)) % p\n",
    "e1_V = int(sha256((str(msg) + str(Y) + str(calculation) + str(y_wave) + str(calculation_1)).encode()).hexdigest(), 16) % q\n",
    "\n",
    "print(e1_V)\n",
    "print(e2_V)\n",
    "print(e3_V)\n",
    "print(e1_V==e1)"
   ]
  }
 ],
 "metadata": {
  "kernelspec": {
   "display_name": "Python 3",
   "language": "python",
   "name": "python3"
  },
  "language_info": {
   "codemirror_mode": {
    "name": "ipython",
    "version": 3
   },
   "file_extension": ".py",
   "mimetype": "text/x-python",
   "name": "python",
   "nbconvert_exporter": "python",
   "pygments_lexer": "ipython3",
   "version": "3.12.1"
  }
 },
 "nbformat": 4,
 "nbformat_minor": 2
}
